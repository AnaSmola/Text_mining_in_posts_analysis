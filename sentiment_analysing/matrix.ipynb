{
 "cells": [
  {
   "cell_type": "code",
   "execution_count": 104,
   "id": "88eeefb8",
   "metadata": {},
   "outputs": [],
   "source": [
    "import pandas as pd\n",
    "import string\n",
    "from pandas import DataFrame\n",
    "from pandas import Series\n",
    "import numpy as np\n",
    "import matplotlib.pyplot as plt\n",
    "df = pd.read_csv(r'C:\\Users\\dell\\Desktop\\pliki\\labeled_matrix.csv')\n"
   ]
  },
  {
   "cell_type": "code",
   "execution_count": 105,
   "id": "cc01d5d1",
   "metadata": {},
   "outputs": [
    {
     "name": "stdout",
     "output_type": "stream",
     "text": [
      "<class 'pandas.core.frame.DataFrame'>\n",
      "RangeIndex: 86 entries, 0 to 85\n",
      "Data columns (total 15 columns):\n",
      " #   Column         Non-Null Count  Dtype  \n",
      "---  ------         --------------  -----  \n",
      " 0   comment        86 non-null     object \n",
      " 1   likes          86 non-null     float64\n",
      " 2   my_polarity    86 non-null     float64\n",
      " 3   eng_comment    86 non-null     object \n",
      " 4   compound_vad   86 non-null     float64\n",
      " 5   negative_vad   86 non-null     float64\n",
      " 6   neutral_vad    86 non-null     float64\n",
      " 7   positive_vad   86 non-null     float64\n",
      " 8   vad_pred       86 non-null     int64  \n",
      " 9   blob_polarity  86 non-null     float64\n",
      " 10  blob_pred      86 non-null     int64  \n",
      " 11  neutral        86 non-null     float64\n",
      " 12  negative       86 non-null     float64\n",
      " 13  positive       86 non-null     float64\n",
      " 14  dos_pred       86 non-null     int64  \n",
      "dtypes: float64(10), int64(3), object(2)\n",
      "memory usage: 10.2+ KB\n"
     ]
    }
   ],
   "source": [
    "df.info()"
   ]
  },
  {
   "cell_type": "code",
   "execution_count": 106,
   "id": "8a80715f",
   "metadata": {},
   "outputs": [
    {
     "data": {
      "text/plain": [
       "'Сплочённые, но доверчивые. Этим пользуются наши враги.'"
      ]
     },
     "execution_count": 106,
     "metadata": {},
     "output_type": "execute_result"
    }
   ],
   "source": [
    "# select 0, 1, 2 rows\n",
    "#from the dataframe\n",
    "df['comment'].iloc[80]"
   ]
  },
  {
   "cell_type": "code",
   "execution_count": 107,
   "id": "1dd71323",
   "metadata": {},
   "outputs": [],
   "source": [
    "#'comment', 'my_polarity',  'label', 'analysis', 'polarity_var'\n",
    "df_example = df.drop([ 'likes', 'neutral', 'negative', 'positive','compound_vad','negative_vad', 'neutral_vad', 'positive_vad','blob_polarity'], axis =1)"
   ]
  },
  {
   "cell_type": "code",
   "execution_count": 108,
   "id": "f32e539d",
   "metadata": {},
   "outputs": [
    {
     "data": {
      "text/html": [
       "<div>\n",
       "<style scoped>\n",
       "    .dataframe tbody tr th:only-of-type {\n",
       "        vertical-align: middle;\n",
       "    }\n",
       "\n",
       "    .dataframe tbody tr th {\n",
       "        vertical-align: top;\n",
       "    }\n",
       "\n",
       "    .dataframe thead th {\n",
       "        text-align: right;\n",
       "    }\n",
       "</style>\n",
       "<table border=\"1\" class=\"dataframe\">\n",
       "  <thead>\n",
       "    <tr style=\"text-align: right;\">\n",
       "      <th></th>\n",
       "      <th>comment</th>\n",
       "      <th>my_polarity</th>\n",
       "      <th>eng_comment</th>\n",
       "      <th>vad_pred</th>\n",
       "      <th>blob_pred</th>\n",
       "      <th>dos_pred</th>\n",
       "    </tr>\n",
       "  </thead>\n",
       "  <tbody>\n",
       "    <tr>\n",
       "      <th>0</th>\n",
       "      <td>В Польшу уехали не от хорошей жизни.Я сам убежал,уехал,скрылся-как угодно можно назвать,чтобы не сесть в тюрьму,потому что свобода для меня многое значит...здесь,в Польше,не все беларусы нормальные...многие привезли совок с собой...проблемы остались у всех,но некоторые все равно пытаются свалить их решение на других людей...все люди-разные...</td>\n",
       "      <td>-1.0</td>\n",
       "      <td>They did not leave Poland from a good life. I ran away, left, disappeared, how can I please, so as not to go to jail, because freedom means a lot for me ... Here, in Poland, not all Belarusians are normal ... Many are many. They brought the scoop with them ... Everyone remained at all, but some are still trying to dump their decision on other people ... All people are ...</td>\n",
       "      <td>1</td>\n",
       "      <td>1</td>\n",
       "      <td>-1</td>\n",
       "    </tr>\n",
       "    <tr>\n",
       "      <th>1</th>\n",
       "      <td>Здравствуйте, Светлана! Честно говоря, мы до лета прошлого года и сами не знали, какими мы можем быть:)) Мне, как беларуске, кажется, что эта наша общая беда, которая сейчас происходит в Беларуси, нас очень сплотила. Эта ситуация, словно лакмусовая бумажка, показала не только уродливое лицо власти, но дух беларуского народа. Но вы не забывайте, что и у власти в Беларуси, тоже ведь беларусы сидят:( а значит, всё зависит от людей! Сколько живу в Польше, могу сказать, что встречала украинцев с которыми замечательно общалась и которые очень мне помогли. Да и вообще, мне кажется, человек человеку брат и друг, было бы сердце и совесть, и \"национальные особенности\" тут могут не сыграть вообще никакой роли (если такие \"особенности\" вообще существует:)) . А я лично в восторге от вашей инициативы! Спасибо большое!!!</td>\n",
       "      <td>1.0</td>\n",
       "      <td>Hello Svetlana! Honestly, we ourselves did not know what we could be before last year :)) I, like Belarusian, seem to me that this is our common trouble, which is now happening in Belarus, was very rallying us. This situation, like a litmus piece of paper, showed not only the ugly face of power, but the spirit of the Belarusian people. But you do not forget that in power in Belarus, also the Belarusians are sitting :( and therefore, it all depends on people! How many live in Poland, I can say that I have met Ukrainians with which she communicated remarkably and who helped me a lot. And in general It seems to me that man is a brother and friend, there would be a heart and conscience, and “national characteristics” here may not play any role at all (if such “features” exist in general :)). And I personally are delighted with your initiative! Thanks a lot!!!</td>\n",
       "      <td>1</td>\n",
       "      <td>1</td>\n",
       "      <td>0</td>\n",
       "    </tr>\n",
       "    <tr>\n",
       "      <th>2</th>\n",
       "      <td>люди разные в разных странах, и не зависит от национальности - просто каждый выбирает свой путь. С удовольствием купила бы у вас орешков, если бы была в варшаве. Не соглашусь, с комментариями выше, что беларусы затоптали бы кого-то, но мимо прошло бы большинство, так как позиция \"мояхатаскраю\" это огромный минус процента 70 беларусов. Поэтому те, кто остается в Беларуси и ушел в подполье, ждут санкций, в надежде что финансовый кризис расшевелит это болото и люди будут вынуждены выйти на забастовку и протест.</td>\n",
       "      <td>-1.0</td>\n",
       "      <td>People are different in different countries, and does not depend on nationality - just everyone chooses their own path. I would love to buy halves from you if I were in Warsaw. I do not agree, with the comments above that the Belarusians would have trampled someone, but the majority would have passed by, since the position of Moikhataskkrekh is a huge minus of 70 Belarusians. Therefore, those who remain in Belarus and went underground are waiting for sanctions, in the hope that the financial crisis will stir this swamp and people will be forced to go to the strike and protest.</td>\n",
       "      <td>-1</td>\n",
       "      <td>1</td>\n",
       "      <td>0</td>\n",
       "    </tr>\n",
       "    <tr>\n",
       "      <th>3</th>\n",
       "      <td>Светлана, ты молодец 👍💪💪</td>\n",
       "      <td>1.0</td>\n",
       "      <td>Svetlana, you're well done</td>\n",
       "      <td>1</td>\n",
       "      <td>0</td>\n",
       "      <td>1</td>\n",
       "    </tr>\n",
       "    <tr>\n",
       "      <th>4</th>\n",
       "      <td>Приветствую. Автор высказался субъективно. Я много лет работаю плечом к плечу с украинцами. И не было такого. Чтоб не помогали. Везде есть ложка дегтя на бочку меда.</td>\n",
       "      <td>0.0</td>\n",
       "      <td>Greetings. The author spoke subjectively. For many years I have been working with my shoulder to shoulder with Ukrainians. And there was no such thing. So as not to help. Everywhere there is a spoonful of tar on a barrel of honey.</td>\n",
       "      <td>-1</td>\n",
       "      <td>1</td>\n",
       "      <td>0</td>\n",
       "    </tr>\n",
       "    <tr>\n",
       "      <th>...</th>\n",
       "      <td>...</td>\n",
       "      <td>...</td>\n",
       "      <td>...</td>\n",
       "      <td>...</td>\n",
       "      <td>...</td>\n",
       "      <td>...</td>\n",
       "    </tr>\n",
       "    <tr>\n",
       "      <th>81</th>\n",
       "      <td>спасибо вам за написанное! Спасибо что прочитали именно то,что я написала! 🙏</td>\n",
       "      <td>1.0</td>\n",
       "      <td>Thank you for the written! Thank you for reading exactly what I wrote! 🙏</td>\n",
       "      <td>1</td>\n",
       "      <td>1</td>\n",
       "      <td>0</td>\n",
       "    </tr>\n",
       "    <tr>\n",
       "      <th>82</th>\n",
       "      <td>да мне бы знающего человека и разбирающегося в этом... Была бы очень благодарна! Если вы понимаете о чем речь,буду признательна пообщаться в личке!</td>\n",
       "      <td>1.0</td>\n",
       "      <td>Yes, I would be a knowledgeable person and understanding this ... I would be very grateful! If you understand what it is about, I will be grateful to chat in PM!</td>\n",
       "      <td>1</td>\n",
       "      <td>1</td>\n",
       "      <td>0</td>\n",
       "    </tr>\n",
       "    <tr>\n",
       "      <th>83</th>\n",
       "      <td>Ну, так перечитайте внимательно ЧТО ИМЕННО Вы написали и может поймёте что с этим постом не так?</td>\n",
       "      <td>0.0</td>\n",
       "      <td>Well, so read carefully what exactly you wrote and maybe you will understand what's wrong with this post?</td>\n",
       "      <td>-1</td>\n",
       "      <td>-1</td>\n",
       "      <td>0</td>\n",
       "    </tr>\n",
       "    <tr>\n",
       "      <th>84</th>\n",
       "      <td>я видела их посты,я читала о чем пишут люди! Вы читали,что б украинец украинцу писал о том,что он готов предоставить кров,дать одежду и обувь бесплатно? Я не читала ни разу,почти за 1,5 года в разных группах!\\n Это будет последний комет,я закрываю комментарии. Потому что,все равно,это мешать воду в ступе и каждый останется при своем мнении.\\n Всем нам,благ,мира,взаимопонимания и любви! 💞💞💞🙏</td>\n",
       "      <td>1.0</td>\n",
       "      <td>I saw their posts, I read what people write about! Have you read that the Ukrainian wrote to the Ukrainian that he was ready to provide shelter, give clothes and shoes for free? I have never read, almost 1.5 years in different groups!\\n This will be the last comet, I close the comments. Because, all the same, it is to interfere with water in a mortar and everyone will remain with their own opinion.\\n All of us, benefits, peace, mutual understanding and love! 💞💞💞🙏</td>\n",
       "      <td>1</td>\n",
       "      <td>1</td>\n",
       "      <td>-1</td>\n",
       "    </tr>\n",
       "    <tr>\n",
       "      <th>85</th>\n",
       "      <td>не бери близко к сердцу... Люди разные.. Подсолнечник тянется к солнцу, а банный лист сама понимаешь куда</td>\n",
       "      <td>0.0</td>\n",
       "      <td>Do not take it to heart ... people are different .. sunflower stretches to the sun, and you understand the bath sheet itself where</td>\n",
       "      <td>1</td>\n",
       "      <td>0</td>\n",
       "      <td>0</td>\n",
       "    </tr>\n",
       "  </tbody>\n",
       "</table>\n",
       "<p>86 rows × 6 columns</p>\n",
       "</div>"
      ],
      "text/plain": [
       "                                                                                                                                                                                                                                                                                                                                                                                                                                                                                                                                                                                                                                                                                                                                                                                                                                              comment  \\\n",
       "0                                                                                                                                                                                                                                                                                                                                                                                                                                                                                            В Польшу уехали не от хорошей жизни.Я сам убежал,уехал,скрылся-как угодно можно назвать,чтобы не сесть в тюрьму,потому что свобода для меня многое значит...здесь,в Польше,не все беларусы нормальные...многие привезли совок с собой...проблемы остались у всех,но некоторые все равно пытаются свалить их решение на других людей...все люди-разные...   \n",
       "1   Здравствуйте, Светлана! Честно говоря, мы до лета прошлого года и сами не знали, какими мы можем быть:)) Мне, как беларуске, кажется, что эта наша общая беда, которая сейчас происходит в Беларуси, нас очень сплотила. Эта ситуация, словно лакмусовая бумажка, показала не только уродливое лицо власти, но дух беларуского народа. Но вы не забывайте, что и у власти в Беларуси, тоже ведь беларусы сидят:( а значит, всё зависит от людей! Сколько живу в Польше, могу сказать, что встречала украинцев с которыми замечательно общалась и которые очень мне помогли. Да и вообще, мне кажется, человек человеку брат и друг, было бы сердце и совесть, и \"национальные особенности\" тут могут не сыграть вообще никакой роли (если такие \"особенности\" вообще существует:)) . А я лично в восторге от вашей инициативы! Спасибо большое!!!   \n",
       "2                                                                                                                                                                                                                                                                                                                   люди разные в разных странах, и не зависит от национальности - просто каждый выбирает свой путь. С удовольствием купила бы у вас орешков, если бы была в варшаве. Не соглашусь, с комментариями выше, что беларусы затоптали бы кого-то, но мимо прошло бы большинство, так как позиция \"мояхатаскраю\" это огромный минус процента 70 беларусов. Поэтому те, кто остается в Беларуси и ушел в подполье, ждут санкций, в надежде что финансовый кризис расшевелит это болото и люди будут вынуждены выйти на забастовку и протест.   \n",
       "3                                                                                                                                                                                                                                                                                                                                                                                                                                                                                                                                                                                                                                                                                                                                                                                                                            Светлана, ты молодец 👍💪💪   \n",
       "4                                                                                                                                                                                                                                                                                                                                                                                                                                                                                                                                                                                                                                                                               Приветствую. Автор высказался субъективно. Я много лет работаю плечом к плечу с украинцами. И не было такого. Чтоб не помогали. Везде есть ложка дегтя на бочку меда.   \n",
       "..                                                                                                                                                                                                                                                                                                                                                                                                                                                                                                                                                                                                                                                                                                                                                                                                                                                ...   \n",
       "81                                                                                                                                                                                                                                                                                                                                                                                                                                                                                                                                                                                                                                                                                                                                                                       спасибо вам за написанное! Спасибо что прочитали именно то,что я написала! 🙏   \n",
       "82                                                                                                                                                                                                                                                                                                                                                                                                                                                                                                                                                                                                                                                                                                да мне бы знающего человека и разбирающегося в этом... Была бы очень благодарна! Если вы понимаете о чем речь,буду признательна пообщаться в личке!   \n",
       "83                                                                                                                                                                                                                                                                                                                                                                                                                                                                                                                                                                                                                                                                                                                                                   Ну, так перечитайте внимательно ЧТО ИМЕННО Вы написали и может поймёте что с этим постом не так?   \n",
       "84                                                                                                                                                                                                                                                                                                                                                                                                                                          я видела их посты,я читала о чем пишут люди! Вы читали,что б украинец украинцу писал о том,что он готов предоставить кров,дать одежду и обувь бесплатно? Я не читала ни разу,почти за 1,5 года в разных группах!\\n Это будет последний комет,я закрываю комментарии. Потому что,все равно,это мешать воду в ступе и каждый останется при своем мнении.\\n Всем нам,благ,мира,взаимопонимания и любви! 💞💞💞🙏   \n",
       "85                                                                                                                                                                                                                                                                                                                                                                                                                                                                                                                                                                                                                                                                                                                                          не бери близко к сердцу... Люди разные.. Подсолнечник тянется к солнцу, а банный лист сама понимаешь куда   \n",
       "\n",
       "    my_polarity  \\\n",
       "0          -1.0   \n",
       "1           1.0   \n",
       "2          -1.0   \n",
       "3           1.0   \n",
       "4           0.0   \n",
       "..          ...   \n",
       "81          1.0   \n",
       "82          1.0   \n",
       "83          0.0   \n",
       "84          1.0   \n",
       "85          0.0   \n",
       "\n",
       "                                                                                                                                                                                                                                                                                                                                                                                                                                                                                                                                                                                                                                                                                                                                                                                                                                                                                            eng_comment  \\\n",
       "0                                                                                                                                                                                                                                                                                                                                                                                                                                                                                                                They did not leave Poland from a good life. I ran away, left, disappeared, how can I please, so as not to go to jail, because freedom means a lot for me ... Here, in Poland, not all Belarusians are normal ... Many are many. They brought the scoop with them ... Everyone remained at all, but some are still trying to dump their decision on other people ... All people are ...   \n",
       "1   Hello Svetlana! Honestly, we ourselves did not know what we could be before last year :)) I, like Belarusian, seem to me that this is our common trouble, which is now happening in Belarus, was very rallying us. This situation, like a litmus piece of paper, showed not only the ugly face of power, but the spirit of the Belarusian people. But you do not forget that in power in Belarus, also the Belarusians are sitting :( and therefore, it all depends on people! How many live in Poland, I can say that I have met Ukrainians with which she communicated remarkably and who helped me a lot. And in general It seems to me that man is a brother and friend, there would be a heart and conscience, and “national characteristics” here may not play any role at all (if such “features” exist in general :)). And I personally are delighted with your initiative! Thanks a lot!!!   \n",
       "2                                                                                                                                                                                                                                                                                               People are different in different countries, and does not depend on nationality - just everyone chooses their own path. I would love to buy halves from you if I were in Warsaw. I do not agree, with the comments above that the Belarusians would have trampled someone, but the majority would have passed by, since the position of Moikhataskkrekh is a huge minus of 70 Belarusians. Therefore, those who remain in Belarus and went underground are waiting for sanctions, in the hope that the financial crisis will stir this swamp and people will be forced to go to the strike and protest.   \n",
       "3                                                                                                                                                                                                                                                                                                                                                                                                                                                                                                                                                                                                                                                                                                                                                                                                                                                                            Svetlana, you're well done   \n",
       "4                                                                                                                                                                                                                                                                                                                                                                                                                                                                                                                                                                                                                                                                Greetings. The author spoke subjectively. For many years I have been working with my shoulder to shoulder with Ukrainians. And there was no such thing. So as not to help. Everywhere there is a spoonful of tar on a barrel of honey.   \n",
       "..                                                                                                                                                                                                                                                                                                                                                                                                                                                                                                                                                                                                                                                                                                                                                                                                                                                                                                  ...   \n",
       "81                                                                                                                                                                                                                                                                                                                                                                                                                                                                                                                                                                                                                                                                                                                                                                                                                             Thank you for the written! Thank you for reading exactly what I wrote! 🙏   \n",
       "82                                                                                                                                                                                                                                                                                                                                                                                                                                                                                                                                                                                                                                                                                                                                    Yes, I would be a knowledgeable person and understanding this ... I would be very grateful! If you understand what it is about, I will be grateful to chat in PM!   \n",
       "83                                                                                                                                                                                                                                                                                                                                                                                                                                                                                                                                                                                                                                                                                                                                                                                            Well, so read carefully what exactly you wrote and maybe you will understand what's wrong with this post?   \n",
       "84                                                                                                                                                                                                                                                                                                                                                                                                                  I saw their posts, I read what people write about! Have you read that the Ukrainian wrote to the Ukrainian that he was ready to provide shelter, give clothes and shoes for free? I have never read, almost 1.5 years in different groups!\\n This will be the last comet, I close the comments. Because, all the same, it is to interfere with water in a mortar and everyone will remain with their own opinion.\\n All of us, benefits, peace, mutual understanding and love! 💞💞💞🙏   \n",
       "85                                                                                                                                                                                                                                                                                                                                                                                                                                                                                                                                                                                                                                                                                                                                                                   Do not take it to heart ... people are different .. sunflower stretches to the sun, and you understand the bath sheet itself where   \n",
       "\n",
       "    vad_pred  blob_pred  dos_pred  \n",
       "0          1          1        -1  \n",
       "1          1          1         0  \n",
       "2         -1          1         0  \n",
       "3          1          0         1  \n",
       "4         -1          1         0  \n",
       "..       ...        ...       ...  \n",
       "81         1          1         0  \n",
       "82         1          1         0  \n",
       "83        -1         -1         0  \n",
       "84         1          1        -1  \n",
       "85         1          0         0  \n",
       "\n",
       "[86 rows x 6 columns]"
      ]
     },
     "execution_count": 108,
     "metadata": {},
     "output_type": "execute_result"
    }
   ],
   "source": [
    "df_example "
   ]
  },
  {
   "cell_type": "code",
   "execution_count": 109,
   "id": "cbe82acf",
   "metadata": {},
   "outputs": [],
   "source": [
    "df_example['my_polarity']= df_example['my_polarity'].astype(int)"
   ]
  },
  {
   "cell_type": "code",
   "execution_count": 110,
   "id": "7e60bf38",
   "metadata": {},
   "outputs": [
    {
     "name": "stdout",
     "output_type": "stream",
     "text": [
      "<class 'pandas.core.frame.DataFrame'>\n",
      "RangeIndex: 86 entries, 0 to 85\n",
      "Data columns (total 6 columns):\n",
      " #   Column       Non-Null Count  Dtype \n",
      "---  ------       --------------  ----- \n",
      " 0   comment      86 non-null     object\n",
      " 1   my_polarity  86 non-null     int32 \n",
      " 2   eng_comment  86 non-null     object\n",
      " 3   vad_pred     86 non-null     int64 \n",
      " 4   blob_pred    86 non-null     int64 \n",
      " 5   dos_pred     86 non-null     int64 \n",
      "dtypes: int32(1), int64(3), object(2)\n",
      "memory usage: 3.8+ KB\n"
     ]
    }
   ],
   "source": [
    "df_example.info()"
   ]
  },
  {
   "cell_type": "code",
   "execution_count": 111,
   "id": "3a05a7f5",
   "metadata": {},
   "outputs": [
    {
     "data": {
      "text/plain": [
       "comment        Сплочённые, но доверчивые. Этим пользуются наши враги.\n",
       "my_polarity                                                        -1\n",
       "eng_comment               Coated, but gullible. Our enemies use this.\n",
       "vad_pred                                                           -1\n",
       "blob_pred                                                           0\n",
       "dos_pred                                                            0\n",
       "Name: 80, dtype: object"
      ]
     },
     "execution_count": 111,
     "metadata": {},
     "output_type": "execute_result"
    }
   ],
   "source": [
    "df_example.iloc[80]"
   ]
  },
  {
   "cell_type": "code",
   "execution_count": 112,
   "id": "08301e33",
   "metadata": {},
   "outputs": [],
   "source": [
    "df_example.to_csv('C:/Users/dell/Desktop/pliki/matrix.csv', encoding = 'utf-8',  index = False)"
   ]
  },
  {
   "cell_type": "code",
   "execution_count": 113,
   "id": "ec2b62b8",
   "metadata": {},
   "outputs": [
    {
     "data": {
      "text/html": [
       "<div>\n",
       "<style scoped>\n",
       "    .dataframe tbody tr th:only-of-type {\n",
       "        vertical-align: middle;\n",
       "    }\n",
       "\n",
       "    .dataframe tbody tr th {\n",
       "        vertical-align: top;\n",
       "    }\n",
       "\n",
       "    .dataframe thead th {\n",
       "        text-align: right;\n",
       "    }\n",
       "</style>\n",
       "<table border=\"1\" class=\"dataframe\">\n",
       "  <thead>\n",
       "    <tr style=\"text-align: right;\">\n",
       "      <th></th>\n",
       "      <th>comment</th>\n",
       "      <th>my_polarity</th>\n",
       "      <th>eng_comment</th>\n",
       "      <th>vad_pred</th>\n",
       "      <th>blob_pred</th>\n",
       "      <th>dos_pred</th>\n",
       "    </tr>\n",
       "  </thead>\n",
       "  <tbody>\n",
       "    <tr>\n",
       "      <th>0</th>\n",
       "      <td>В Польшу уехали не от хорошей жизни.Я сам убежал,уехал,скрылся-как угодно можно назвать,чтобы не сесть в тюрьму,потому что свобода для меня многое значит...здесь,в Польше,не все беларусы нормальные...многие привезли совок с собой...проблемы остались у всех,но некоторые все равно пытаются свалить их решение на других людей...все люди-разные...</td>\n",
       "      <td>-1</td>\n",
       "      <td>They did not leave Poland from a good life. I ran away, left, disappeared, how can I please, so as not to go to jail, because freedom means a lot for me ... Here, in Poland, not all Belarusians are normal ... Many are many. They brought the scoop with them ... Everyone remained at all, but some are still trying to dump their decision on other people ... All people are ...</td>\n",
       "      <td>1</td>\n",
       "      <td>1</td>\n",
       "      <td>-1</td>\n",
       "    </tr>\n",
       "    <tr>\n",
       "      <th>1</th>\n",
       "      <td>Здравствуйте, Светлана! Честно говоря, мы до лета прошлого года и сами не знали, какими мы можем быть:)) Мне, как беларуске, кажется, что эта наша общая беда, которая сейчас происходит в Беларуси, нас очень сплотила. Эта ситуация, словно лакмусовая бумажка, показала не только уродливое лицо власти, но дух беларуского народа. Но вы не забывайте, что и у власти в Беларуси, тоже ведь беларусы сидят:( а значит, всё зависит от людей! Сколько живу в Польше, могу сказать, что встречала украинцев с которыми замечательно общалась и которые очень мне помогли. Да и вообще, мне кажется, человек человеку брат и друг, было бы сердце и совесть, и \"национальные особенности\" тут могут не сыграть вообще никакой роли (если такие \"особенности\" вообще существует:)) . А я лично в восторге от вашей инициативы! Спасибо большое!!!</td>\n",
       "      <td>1</td>\n",
       "      <td>Hello Svetlana! Honestly, we ourselves did not know what we could be before last year :)) I, like Belarusian, seem to me that this is our common trouble, which is now happening in Belarus, was very rallying us. This situation, like a litmus piece of paper, showed not only the ugly face of power, but the spirit of the Belarusian people. But you do not forget that in power in Belarus, also the Belarusians are sitting :( and therefore, it all depends on people! How many live in Poland, I can say that I have met Ukrainians with which she communicated remarkably and who helped me a lot. And in general It seems to me that man is a brother and friend, there would be a heart and conscience, and “national characteristics” here may not play any role at all (if such “features” exist in general :)). And I personally are delighted with your initiative! Thanks a lot!!!</td>\n",
       "      <td>1</td>\n",
       "      <td>1</td>\n",
       "      <td>0</td>\n",
       "    </tr>\n",
       "    <tr>\n",
       "      <th>2</th>\n",
       "      <td>люди разные в разных странах, и не зависит от национальности - просто каждый выбирает свой путь. С удовольствием купила бы у вас орешков, если бы была в варшаве. Не соглашусь, с комментариями выше, что беларусы затоптали бы кого-то, но мимо прошло бы большинство, так как позиция \"мояхатаскраю\" это огромный минус процента 70 беларусов. Поэтому те, кто остается в Беларуси и ушел в подполье, ждут санкций, в надежде что финансовый кризис расшевелит это болото и люди будут вынуждены выйти на забастовку и протест.</td>\n",
       "      <td>-1</td>\n",
       "      <td>People are different in different countries, and does not depend on nationality - just everyone chooses their own path. I would love to buy halves from you if I were in Warsaw. I do not agree, with the comments above that the Belarusians would have trampled someone, but the majority would have passed by, since the position of Moikhataskkrekh is a huge minus of 70 Belarusians. Therefore, those who remain in Belarus and went underground are waiting for sanctions, in the hope that the financial crisis will stir this swamp and people will be forced to go to the strike and protest.</td>\n",
       "      <td>-1</td>\n",
       "      <td>1</td>\n",
       "      <td>0</td>\n",
       "    </tr>\n",
       "    <tr>\n",
       "      <th>3</th>\n",
       "      <td>Светлана, ты молодец 👍💪💪</td>\n",
       "      <td>1</td>\n",
       "      <td>Svetlana, you're well done</td>\n",
       "      <td>1</td>\n",
       "      <td>0</td>\n",
       "      <td>1</td>\n",
       "    </tr>\n",
       "    <tr>\n",
       "      <th>4</th>\n",
       "      <td>Приветствую. Автор высказался субъективно. Я много лет работаю плечом к плечу с украинцами. И не было такого. Чтоб не помогали. Везде есть ложка дегтя на бочку меда.</td>\n",
       "      <td>0</td>\n",
       "      <td>Greetings. The author spoke subjectively. For many years I have been working with my shoulder to shoulder with Ukrainians. And there was no such thing. So as not to help. Everywhere there is a spoonful of tar on a barrel of honey.</td>\n",
       "      <td>-1</td>\n",
       "      <td>1</td>\n",
       "      <td>0</td>\n",
       "    </tr>\n",
       "  </tbody>\n",
       "</table>\n",
       "</div>"
      ],
      "text/plain": [
       "                                                                                                                                                                                                                                                                                                                                                                                                                                                                                                                                                                                                                                                                                                                                                                                                                                             comment  \\\n",
       "0                                                                                                                                                                                                                                                                                                                                                                                                                                                                                           В Польшу уехали не от хорошей жизни.Я сам убежал,уехал,скрылся-как угодно можно назвать,чтобы не сесть в тюрьму,потому что свобода для меня многое значит...здесь,в Польше,не все беларусы нормальные...многие привезли совок с собой...проблемы остались у всех,но некоторые все равно пытаются свалить их решение на других людей...все люди-разные...   \n",
       "1  Здравствуйте, Светлана! Честно говоря, мы до лета прошлого года и сами не знали, какими мы можем быть:)) Мне, как беларуске, кажется, что эта наша общая беда, которая сейчас происходит в Беларуси, нас очень сплотила. Эта ситуация, словно лакмусовая бумажка, показала не только уродливое лицо власти, но дух беларуского народа. Но вы не забывайте, что и у власти в Беларуси, тоже ведь беларусы сидят:( а значит, всё зависит от людей! Сколько живу в Польше, могу сказать, что встречала украинцев с которыми замечательно общалась и которые очень мне помогли. Да и вообще, мне кажется, человек человеку брат и друг, было бы сердце и совесть, и \"национальные особенности\" тут могут не сыграть вообще никакой роли (если такие \"особенности\" вообще существует:)) . А я лично в восторге от вашей инициативы! Спасибо большое!!!   \n",
       "2                                                                                                                                                                                                                                                                                                                  люди разные в разных странах, и не зависит от национальности - просто каждый выбирает свой путь. С удовольствием купила бы у вас орешков, если бы была в варшаве. Не соглашусь, с комментариями выше, что беларусы затоптали бы кого-то, но мимо прошло бы большинство, так как позиция \"мояхатаскраю\" это огромный минус процента 70 беларусов. Поэтому те, кто остается в Беларуси и ушел в подполье, ждут санкций, в надежде что финансовый кризис расшевелит это болото и люди будут вынуждены выйти на забастовку и протест.   \n",
       "3                                                                                                                                                                                                                                                                                                                                                                                                                                                                                                                                                                                                                                                                                                                                                                                                                           Светлана, ты молодец 👍💪💪   \n",
       "4                                                                                                                                                                                                                                                                                                                                                                                                                                                                                                                                                                                                                                                                              Приветствую. Автор высказался субъективно. Я много лет работаю плечом к плечу с украинцами. И не было такого. Чтоб не помогали. Везде есть ложка дегтя на бочку меда.   \n",
       "\n",
       "   my_polarity  \\\n",
       "0           -1   \n",
       "1            1   \n",
       "2           -1   \n",
       "3            1   \n",
       "4            0   \n",
       "\n",
       "                                                                                                                                                                                                                                                                                                                                                                                                                                                                                                                                                                                                                                                                                                                                                                                                                                                                                           eng_comment  \\\n",
       "0                                                                                                                                                                                                                                                                                                                                                                                                                                                                                                               They did not leave Poland from a good life. I ran away, left, disappeared, how can I please, so as not to go to jail, because freedom means a lot for me ... Here, in Poland, not all Belarusians are normal ... Many are many. They brought the scoop with them ... Everyone remained at all, but some are still trying to dump their decision on other people ... All people are ...   \n",
       "1  Hello Svetlana! Honestly, we ourselves did not know what we could be before last year :)) I, like Belarusian, seem to me that this is our common trouble, which is now happening in Belarus, was very rallying us. This situation, like a litmus piece of paper, showed not only the ugly face of power, but the spirit of the Belarusian people. But you do not forget that in power in Belarus, also the Belarusians are sitting :( and therefore, it all depends on people! How many live in Poland, I can say that I have met Ukrainians with which she communicated remarkably and who helped me a lot. And in general It seems to me that man is a brother and friend, there would be a heart and conscience, and “national characteristics” here may not play any role at all (if such “features” exist in general :)). And I personally are delighted with your initiative! Thanks a lot!!!   \n",
       "2                                                                                                                                                                                                                                                                                              People are different in different countries, and does not depend on nationality - just everyone chooses their own path. I would love to buy halves from you if I were in Warsaw. I do not agree, with the comments above that the Belarusians would have trampled someone, but the majority would have passed by, since the position of Moikhataskkrekh is a huge minus of 70 Belarusians. Therefore, those who remain in Belarus and went underground are waiting for sanctions, in the hope that the financial crisis will stir this swamp and people will be forced to go to the strike and protest.   \n",
       "3                                                                                                                                                                                                                                                                                                                                                                                                                                                                                                                                                                                                                                                                                                                                                                                                                                                                           Svetlana, you're well done   \n",
       "4                                                                                                                                                                                                                                                                                                                                                                                                                                                                                                                                                                                                                                                               Greetings. The author spoke subjectively. For many years I have been working with my shoulder to shoulder with Ukrainians. And there was no such thing. So as not to help. Everywhere there is a spoonful of tar on a barrel of honey.   \n",
       "\n",
       "   vad_pred  blob_pred  dos_pred  \n",
       "0         1          1        -1  \n",
       "1         1          1         0  \n",
       "2        -1          1         0  \n",
       "3         1          0         1  \n",
       "4        -1          1         0  "
      ]
     },
     "execution_count": 113,
     "metadata": {},
     "output_type": "execute_result"
    }
   ],
   "source": [
    "df = pd.read_csv(r'C:\\Users\\dell\\Desktop\\pliki\\matrix.csv')\n",
    "df.head()"
   ]
  },
  {
   "cell_type": "code",
   "execution_count": 114,
   "id": "0182ce41",
   "metadata": {},
   "outputs": [
    {
     "data": {
      "text/plain": [
       "(<AxesSubplot:title={'center':'Confusion matrix of dostoevsky'}, xlabel='Predicted', ylabel='Actual'>,\n",
       " Text(0.5, 32.08333333333333, 'Predicted'),\n",
       " Text(174.58333333333343, 0.5, 'Actual'),\n",
       " Text(0.5, 1.0, 'Confusion matrix of dostoevsky'))"
      ]
     },
     "execution_count": 114,
     "metadata": {},
     "output_type": "execute_result"
    },
    {
     "data": {
      "image/png": "[encoded data removed]",
      "text/plain": [
       "<Figure size 900x600 with 2 Axes>"
      ]
     },
     "metadata": {
      "needs_background": "light"
     },
     "output_type": "display_data"
    }
   ],
   "source": [
    "# Print confusion matrix \n",
    "from sklearn.metrics import confusion_matrix\n",
    "import matplotlib.pyplot as plt\n",
    "import seaborn as sns\n",
    "\n",
    "def conf_matrix(sent_true, pred_sent):\n",
    "    \n",
    "    confusion = confusion_matrix(sent_true, pred_sent)\n",
    "    plt.figure(dpi=150)\n",
    "    \n",
    "    xticks = ['Negative', 'Neutral', 'Positive']\n",
    "    yticks = ['Negative', 'Neutral', 'Positive']\n",
    "           \n",
    "    \n",
    "    fig = sns.heatmap(confusion, cmap = plt.cm.Blues, annot=True, square=True, fmt='d',\n",
    "                       xticklabels = xticks,\n",
    "                       yticklabels = yticks)\n",
    "     \n",
    "    xlab = plt.xlabel('Predicted')\n",
    "    ylab = plt.ylabel('Actual')\n",
    "    title = plt.title('Confusion matrix of dostoevsky')\n",
    "    \n",
    "    return fig, xlab, ylab, title\n",
    "\n",
    "\n",
    "#Confusion Matrix for VADER\n",
    "conf_matrix(df['my_polarity'], df['dos_pred'])"
   ]
  },
  {
   "cell_type": "code",
   "execution_count": 115,
   "id": "5847a6af",
   "metadata": {},
   "outputs": [
    {
     "data": {
      "text/plain": [
       "(<AxesSubplot:title={'center':'Confusion matrix of TextBlob'}, xlabel='Predicted', ylabel='Actual'>,\n",
       " Text(0.5, 32.08333333333333, 'Predicted'),\n",
       " Text(174.58333333333343, 0.5, 'Actual'),\n",
       " Text(0.5, 1.0, 'Confusion matrix of TextBlob'))"
      ]
     },
     "execution_count": 115,
     "metadata": {},
     "output_type": "execute_result"
    },
    {
     "data": {
      "image/png": "[encoded data removed]",
      "text/plain": [
       "<Figure size 900x600 with 2 Axes>"
      ]
     },
     "metadata": {
      "needs_background": "light"
     },
     "output_type": "display_data"
    }
   ],
   "source": [
    "# Print confusion matrix \n",
    "from sklearn.metrics import confusion_matrix\n",
    "import matplotlib.pyplot as plt\n",
    "import seaborn as sns\n",
    "\n",
    "def conf_matrix(sent_true, pred_sent):\n",
    "    \n",
    "    confusion = confusion_matrix(sent_true, pred_sent)\n",
    "    plt.figure(dpi=150)\n",
    "    \n",
    "    xticks = ['Negative', 'Neutral', 'Positive']\n",
    "    yticks = ['Negative', 'Neutral', 'Positive']\n",
    "           \n",
    "    \n",
    "    fig = sns.heatmap(confusion, cmap = plt.cm.Blues, annot=True, square=True, fmt='d',\n",
    "                       xticklabels = xticks,\n",
    "                       yticklabels = yticks)\n",
    "     \n",
    "    xlab = plt.xlabel('Predicted')\n",
    "    ylab = plt.ylabel('Actual')\n",
    "    title = plt.title('Confusion matrix of TextBlob')\n",
    "    \n",
    "    return fig, xlab, ylab, title\n",
    "\n",
    "\n",
    "#Confusion Matrix for VADER\n",
    "conf_matrix(df['my_polarity'], df['blob_pred'])"
   ]
  },
  {
   "cell_type": "code",
   "execution_count": 116,
   "id": "a51f5be9",
   "metadata": {},
   "outputs": [
    {
     "data": {
      "text/plain": [
       "(<AxesSubplot:title={'center':'Confusion matrix of vader'}, xlabel='Predicted', ylabel='Actual'>,\n",
       " Text(0.5, 32.08333333333333, 'Predicted'),\n",
       " Text(174.58333333333343, 0.5, 'Actual'),\n",
       " Text(0.5, 1.0, 'Confusion matrix of vader'))"
      ]
     },
     "execution_count": 116,
     "metadata": {},
     "output_type": "execute_result"
    },
    {
     "data": {
      "image/png": "[encoded data removed]",
      "text/plain": [
       "<Figure size 900x600 with 2 Axes>"
      ]
     },
     "metadata": {
      "needs_background": "light"
     },
     "output_type": "display_data"
    }
   ],
   "source": [
    "# Print confusion matrix \n",
    "from sklearn.metrics import confusion_matrix\n",
    "import matplotlib.pyplot as plt\n",
    "import seaborn as sns\n",
    "\n",
    "def conf_matrix(sent_true, pred_sent):\n",
    "    \n",
    "    confusion = confusion_matrix(sent_true, pred_sent)\n",
    "    plt.figure(dpi=150)\n",
    "    \n",
    "    xticks = ['Negative', 'Neutral', 'Positive']\n",
    "    yticks = ['Negative', 'Neutral', 'Positive']\n",
    "           \n",
    "    \n",
    "    fig = sns.heatmap(confusion, cmap = plt.cm.Blues, annot=True, square=True, fmt='d',\n",
    "                       xticklabels = xticks,\n",
    "                       yticklabels = yticks)\n",
    "     \n",
    "    xlab = plt.xlabel('Predicted')\n",
    "    ylab = plt.ylabel('Actual')\n",
    "    title = plt.title('Confusion matrix of vader')\n",
    "    \n",
    "    return fig, xlab, ylab, title\n",
    "\n",
    "\n",
    "#Confusion Matrix for VADER\n",
    "conf_matrix(df['my_polarity'], df['vad_pred'])"
   ]
  },
  {
   "cell_type": "code",
   "execution_count": 117,
   "id": "a267fd1d",
   "metadata": {},
   "outputs": [
    {
     "name": "stdout",
     "output_type": "stream",
     "text": [
      "              precision    recall  f1-score   support\n",
      "\n",
      "          -1       0.57      0.55      0.56        22\n",
      "           0       0.41      0.83      0.55        29\n",
      "           1       1.00      0.17      0.29        35\n",
      "\n",
      "    accuracy                           0.49        86\n",
      "   macro avg       0.66      0.51      0.47        86\n",
      "weighted avg       0.69      0.49      0.45        86\n",
      "\n"
     ]
    }
   ],
   "source": [
    "#Print Classification Report\n",
    "from sklearn.metrics import classification_report\n",
    "\n",
    "print(classification_report(df['my_polarity'], df['dos_pred']))"
   ]
  },
  {
   "cell_type": "code",
   "execution_count": 118,
   "id": "99a1317e",
   "metadata": {},
   "outputs": [
    {
     "name": "stdout",
     "output_type": "stream",
     "text": [
      "              precision    recall  f1-score   support\n",
      "\n",
      "          -1       0.35      0.32      0.33        22\n",
      "           0       0.40      0.21      0.27        29\n",
      "           1       0.49      0.71      0.58        35\n",
      "\n",
      "    accuracy                           0.44        86\n",
      "   macro avg       0.41      0.41      0.40        86\n",
      "weighted avg       0.42      0.44      0.41        86\n",
      "\n"
     ]
    }
   ],
   "source": [
    "#Print Classification Report\n",
    "from sklearn.metrics import classification_report\n",
    "\n",
    "print(classification_report(df['my_polarity'], df['blob_pred']))"
   ]
  },
  {
   "cell_type": "code",
   "execution_count": 119,
   "id": "1322cbf9",
   "metadata": {},
   "outputs": [
    {
     "name": "stdout",
     "output_type": "stream",
     "text": [
      "              precision    recall  f1-score   support\n",
      "\n",
      "          -1       0.54      0.64      0.58        22\n",
      "           0       0.67      0.21      0.32        29\n",
      "           1       0.65      0.94      0.77        35\n",
      "\n",
      "    accuracy                           0.62        86\n",
      "   macro avg       0.62      0.60      0.56        86\n",
      "weighted avg       0.63      0.62      0.57        86\n",
      "\n"
     ]
    }
   ],
   "source": [
    "#Print Classification Report\n",
    "from sklearn.metrics import classification_report\n",
    "\n",
    "print(classification_report(df['my_polarity'], df['vad_pred']))"
   ]
  },
  {
   "cell_type": "code",
   "execution_count": 120,
   "id": "4ea46c3c",
   "metadata": {},
   "outputs": [],
   "source": [
    "import pandas as pd\n",
    "import string\n",
    "from pandas import DataFrame\n",
    "from pandas import Series\n",
    "import numpy as np\n",
    "import matplotlib.pyplot as plt\n",
    "df = pd.read_csv(r'C:\\Users\\dell\\Desktop\\pliki\\labeled_matrix.csv')\n"
   ]
  },
  {
   "cell_type": "code",
   "execution_count": 121,
   "id": "6d1d54d9",
   "metadata": {},
   "outputs": [],
   "source": [
    "#Check where misclassifies comments\n",
    "pd.set_option('display.max_colwidth', None)\n",
    "df_small = df.drop(['likes', 'neutral','negative','positive', 'blob_polarity','eng_comment','compound_vad','negative_vad', 'neutral_vad', 'positive_vad'], axis =1)\n"
   ]
  },
  {
   "cell_type": "code",
   "execution_count": 122,
   "id": "cf099701",
   "metadata": {},
   "outputs": [],
   "source": [
    "df_small['my_polarity']= df_small['my_polarity'].astype(int)"
   ]
  },
  {
   "cell_type": "code",
   "execution_count": 123,
   "id": "774042b7",
   "metadata": {},
   "outputs": [
    {
     "data": {
      "text/html": [
       "<div>\n",
       "<style scoped>\n",
       "    .dataframe tbody tr th:only-of-type {\n",
       "        vertical-align: middle;\n",
       "    }\n",
       "\n",
       "    .dataframe tbody tr th {\n",
       "        vertical-align: top;\n",
       "    }\n",
       "\n",
       "    .dataframe thead th {\n",
       "        text-align: right;\n",
       "    }\n",
       "</style>\n",
       "<table border=\"1\" class=\"dataframe\">\n",
       "  <thead>\n",
       "    <tr style=\"text-align: right;\">\n",
       "      <th></th>\n",
       "      <th>comment</th>\n",
       "      <th>my_polarity</th>\n",
       "      <th>vad_pred</th>\n",
       "      <th>blob_pred</th>\n",
       "      <th>dos_pred</th>\n",
       "    </tr>\n",
       "  </thead>\n",
       "  <tbody>\n",
       "    <tr>\n",
       "      <th>0</th>\n",
       "      <td>В Польшу уехали не от хорошей жизни.Я сам убежал,уехал,скрылся-как угодно можно назвать,чтобы не сесть в тюрьму,потому что свобода для меня многое значит...здесь,в Польше,не все беларусы нормальные...многие привезли совок с собой...проблемы остались у всех,но некоторые все равно пытаются свалить их решение на других людей...все люди-разные...</td>\n",
       "      <td>-1</td>\n",
       "      <td>1</td>\n",
       "      <td>1</td>\n",
       "      <td>-1</td>\n",
       "    </tr>\n",
       "    <tr>\n",
       "      <th>1</th>\n",
       "      <td>Здравствуйте, Светлана! Честно говоря, мы до лета прошлого года и сами не знали, какими мы можем быть:)) Мне, как беларуске, кажется, что эта наша общая беда, которая сейчас происходит в Беларуси, нас очень сплотила. Эта ситуация, словно лакмусовая бумажка, показала не только уродливое лицо власти, но дух беларуского народа. Но вы не забывайте, что и у власти в Беларуси, тоже ведь беларусы сидят:( а значит, всё зависит от людей! Сколько живу в Польше, могу сказать, что встречала украинцев с которыми замечательно общалась и которые очень мне помогли. Да и вообще, мне кажется, человек человеку брат и друг, было бы сердце и совесть, и \"национальные особенности\" тут могут не сыграть вообще никакой роли (если такие \"особенности\" вообще существует:)) . А я лично в восторге от вашей инициативы! Спасибо большое!!!</td>\n",
       "      <td>1</td>\n",
       "      <td>1</td>\n",
       "      <td>1</td>\n",
       "      <td>0</td>\n",
       "    </tr>\n",
       "    <tr>\n",
       "      <th>2</th>\n",
       "      <td>люди разные в разных странах, и не зависит от национальности - просто каждый выбирает свой путь. С удовольствием купила бы у вас орешков, если бы была в варшаве. Не соглашусь, с комментариями выше, что беларусы затоптали бы кого-то, но мимо прошло бы большинство, так как позиция \"мояхатаскраю\" это огромный минус процента 70 беларусов. Поэтому те, кто остается в Беларуси и ушел в подполье, ждут санкций, в надежде что финансовый кризис расшевелит это болото и люди будут вынуждены выйти на забастовку и протест.</td>\n",
       "      <td>-1</td>\n",
       "      <td>-1</td>\n",
       "      <td>1</td>\n",
       "      <td>0</td>\n",
       "    </tr>\n",
       "    <tr>\n",
       "      <th>3</th>\n",
       "      <td>Светлана, ты молодец 👍💪💪</td>\n",
       "      <td>1</td>\n",
       "      <td>1</td>\n",
       "      <td>0</td>\n",
       "      <td>1</td>\n",
       "    </tr>\n",
       "    <tr>\n",
       "      <th>4</th>\n",
       "      <td>Приветствую. Автор высказался субъективно. Я много лет работаю плечом к плечу с украинцами. И не было такого. Чтоб не помогали. Везде есть ложка дегтя на бочку меда.</td>\n",
       "      <td>0</td>\n",
       "      <td>-1</td>\n",
       "      <td>1</td>\n",
       "      <td>0</td>\n",
       "    </tr>\n",
       "    <tr>\n",
       "      <th>...</th>\n",
       "      <td>...</td>\n",
       "      <td>...</td>\n",
       "      <td>...</td>\n",
       "      <td>...</td>\n",
       "      <td>...</td>\n",
       "    </tr>\n",
       "    <tr>\n",
       "      <th>81</th>\n",
       "      <td>спасибо вам за написанное! Спасибо что прочитали именно то,что я написала! 🙏</td>\n",
       "      <td>1</td>\n",
       "      <td>1</td>\n",
       "      <td>1</td>\n",
       "      <td>0</td>\n",
       "    </tr>\n",
       "    <tr>\n",
       "      <th>82</th>\n",
       "      <td>да мне бы знающего человека и разбирающегося в этом... Была бы очень благодарна! Если вы понимаете о чем речь,буду признательна пообщаться в личке!</td>\n",
       "      <td>1</td>\n",
       "      <td>1</td>\n",
       "      <td>1</td>\n",
       "      <td>0</td>\n",
       "    </tr>\n",
       "    <tr>\n",
       "      <th>83</th>\n",
       "      <td>Ну, так перечитайте внимательно ЧТО ИМЕННО Вы написали и может поймёте что с этим постом не так?</td>\n",
       "      <td>0</td>\n",
       "      <td>-1</td>\n",
       "      <td>-1</td>\n",
       "      <td>0</td>\n",
       "    </tr>\n",
       "    <tr>\n",
       "      <th>84</th>\n",
       "      <td>я видела их посты,я читала о чем пишут люди! Вы читали,что б украинец украинцу писал о том,что он готов предоставить кров,дать одежду и обувь бесплатно? Я не читала ни разу,почти за 1,5 года в разных группах!\\n Это будет последний комет,я закрываю комментарии. Потому что,все равно,это мешать воду в ступе и каждый останется при своем мнении.\\n Всем нам,благ,мира,взаимопонимания и любви! 💞💞💞🙏</td>\n",
       "      <td>1</td>\n",
       "      <td>1</td>\n",
       "      <td>1</td>\n",
       "      <td>-1</td>\n",
       "    </tr>\n",
       "    <tr>\n",
       "      <th>85</th>\n",
       "      <td>не бери близко к сердцу... Люди разные.. Подсолнечник тянется к солнцу, а банный лист сама понимаешь куда</td>\n",
       "      <td>0</td>\n",
       "      <td>1</td>\n",
       "      <td>0</td>\n",
       "      <td>0</td>\n",
       "    </tr>\n",
       "  </tbody>\n",
       "</table>\n",
       "<p>86 rows × 5 columns</p>\n",
       "</div>"
      ],
      "text/plain": [
       "                                                                                                                                                                                                                                                                                                                                                                                                                                                                                                                                                                                                                                                                                                                                                                                                                                              comment  \\\n",
       "0                                                                                                                                                                                                                                                                                                                                                                                                                                                                                            В Польшу уехали не от хорошей жизни.Я сам убежал,уехал,скрылся-как угодно можно назвать,чтобы не сесть в тюрьму,потому что свобода для меня многое значит...здесь,в Польше,не все беларусы нормальные...многие привезли совок с собой...проблемы остались у всех,но некоторые все равно пытаются свалить их решение на других людей...все люди-разные...   \n",
       "1   Здравствуйте, Светлана! Честно говоря, мы до лета прошлого года и сами не знали, какими мы можем быть:)) Мне, как беларуске, кажется, что эта наша общая беда, которая сейчас происходит в Беларуси, нас очень сплотила. Эта ситуация, словно лакмусовая бумажка, показала не только уродливое лицо власти, но дух беларуского народа. Но вы не забывайте, что и у власти в Беларуси, тоже ведь беларусы сидят:( а значит, всё зависит от людей! Сколько живу в Польше, могу сказать, что встречала украинцев с которыми замечательно общалась и которые очень мне помогли. Да и вообще, мне кажется, человек человеку брат и друг, было бы сердце и совесть, и \"национальные особенности\" тут могут не сыграть вообще никакой роли (если такие \"особенности\" вообще существует:)) . А я лично в восторге от вашей инициативы! Спасибо большое!!!   \n",
       "2                                                                                                                                                                                                                                                                                                                   люди разные в разных странах, и не зависит от национальности - просто каждый выбирает свой путь. С удовольствием купила бы у вас орешков, если бы была в варшаве. Не соглашусь, с комментариями выше, что беларусы затоптали бы кого-то, но мимо прошло бы большинство, так как позиция \"мояхатаскраю\" это огромный минус процента 70 беларусов. Поэтому те, кто остается в Беларуси и ушел в подполье, ждут санкций, в надежде что финансовый кризис расшевелит это болото и люди будут вынуждены выйти на забастовку и протест.   \n",
       "3                                                                                                                                                                                                                                                                                                                                                                                                                                                                                                                                                                                                                                                                                                                                                                                                                            Светлана, ты молодец 👍💪💪   \n",
       "4                                                                                                                                                                                                                                                                                                                                                                                                                                                                                                                                                                                                                                                                               Приветствую. Автор высказался субъективно. Я много лет работаю плечом к плечу с украинцами. И не было такого. Чтоб не помогали. Везде есть ложка дегтя на бочку меда.   \n",
       "..                                                                                                                                                                                                                                                                                                                                                                                                                                                                                                                                                                                                                                                                                                                                                                                                                                                ...   \n",
       "81                                                                                                                                                                                                                                                                                                                                                                                                                                                                                                                                                                                                                                                                                                                                                                       спасибо вам за написанное! Спасибо что прочитали именно то,что я написала! 🙏   \n",
       "82                                                                                                                                                                                                                                                                                                                                                                                                                                                                                                                                                                                                                                                                                                да мне бы знающего человека и разбирающегося в этом... Была бы очень благодарна! Если вы понимаете о чем речь,буду признательна пообщаться в личке!   \n",
       "83                                                                                                                                                                                                                                                                                                                                                                                                                                                                                                                                                                                                                                                                                                                                                   Ну, так перечитайте внимательно ЧТО ИМЕННО Вы написали и может поймёте что с этим постом не так?   \n",
       "84                                                                                                                                                                                                                                                                                                                                                                                                                                          я видела их посты,я читала о чем пишут люди! Вы читали,что б украинец украинцу писал о том,что он готов предоставить кров,дать одежду и обувь бесплатно? Я не читала ни разу,почти за 1,5 года в разных группах!\\n Это будет последний комет,я закрываю комментарии. Потому что,все равно,это мешать воду в ступе и каждый останется при своем мнении.\\n Всем нам,благ,мира,взаимопонимания и любви! 💞💞💞🙏   \n",
       "85                                                                                                                                                                                                                                                                                                                                                                                                                                                                                                                                                                                                                                                                                                                                          не бери близко к сердцу... Люди разные.. Подсолнечник тянется к солнцу, а банный лист сама понимаешь куда   \n",
       "\n",
       "    my_polarity  vad_pred  blob_pred  dos_pred  \n",
       "0            -1         1          1        -1  \n",
       "1             1         1          1         0  \n",
       "2            -1        -1          1         0  \n",
       "3             1         1          0         1  \n",
       "4             0        -1          1         0  \n",
       "..          ...       ...        ...       ...  \n",
       "81            1         1          1         0  \n",
       "82            1         1          1         0  \n",
       "83            0        -1         -1         0  \n",
       "84            1         1          1        -1  \n",
       "85            0         1          0         0  \n",
       "\n",
       "[86 rows x 5 columns]"
      ]
     },
     "execution_count": 123,
     "metadata": {},
     "output_type": "execute_result"
    }
   ],
   "source": [
    "df_small"
   ]
  },
  {
   "cell_type": "code",
   "execution_count": 124,
   "id": "b0c4dbab",
   "metadata": {},
   "outputs": [],
   "source": [
    "df.to_csv('C:/Users/dell/Desktop/pliki/small_labeled.csv', encoding = 'utf-8',  index = False)"
   ]
  },
  {
   "cell_type": "code",
   "execution_count": 125,
   "id": "70c3d92c",
   "metadata": {},
   "outputs": [
    {
     "name": "stdout",
     "output_type": "stream",
     "text": [
      "comment        Как говорится , в семье не без урода, везде хватает говна\n",
      "my_polarity                                                           -1\n",
      "vad_pred                                                              -1\n",
      "blob_pred                                                             -1\n",
      "dos_pred                                                              -1\n",
      "Name: 19, dtype: object\n",
      "\n"
     ]
    }
   ],
   "source": [
    "# Examples of correct classification\n",
    "print(df_small.iloc[19])\n",
    "print()\n"
   ]
  },
  {
   "cell_type": "code",
   "execution_count": 126,
   "id": "e5781bf7",
   "metadata": {},
   "outputs": [],
   "source": [
    "#data.iloc[-1] # last row of data frame "
   ]
  },
  {
   "cell_type": "code",
   "execution_count": 127,
   "id": "f2fc6a89",
   "metadata": {},
   "outputs": [
    {
     "name": "stdout",
     "output_type": "stream",
     "text": [
      "comment        Пост разжигающий вражду. Зачем сравнивать разные народы и национальности?\n",
      "my_polarity                                                                           -1\n",
      "vad_pred                                                                               0\n",
      "blob_pred                                                                              0\n",
      "dos_pred                                                                               0\n",
      "Name: 25, dtype: object\n",
      "\n",
      "comment        не правда.конечно, могут быть люди подлые ,но ведь разговор в целом о беларусах.Они действительно отличаются добротой ..\n",
      "my_polarity                                                                                                                           1\n",
      "vad_pred                                                                                                                              1\n",
      "blob_pred                                                                                                                             1\n",
      "dos_pred                                                                                                                              0\n",
      "Name: 43, dtype: object\n"
     ]
    }
   ],
   "source": [
    "# Examples of misclassification\n",
    "print(df_small.iloc[25])\n",
    "print()\n",
    "print(df_small.iloc[43])"
   ]
  },
  {
   "cell_type": "code",
   "execution_count": null,
   "id": "b4c64c75",
   "metadata": {},
   "outputs": [],
   "source": []
  },
  {
   "cell_type": "code",
   "execution_count": null,
   "id": "b0a24f50",
   "metadata": {},
   "outputs": [],
   "source": []
  },
  {
   "cell_type": "code",
   "execution_count": null,
   "id": "fa4b2fc0",
   "metadata": {},
   "outputs": [],
   "source": []
  }
 ],
 "metadata": {
  "kernelspec": {
   "display_name": "Python 3 (ipykernel)",
   "language": "python",
   "name": "python3"
  },
  "language_info": {
   "codemirror_mode": {
    "name": "ipython",
    "version": 3
   },
   "file_extension": ".py",
   "mimetype": "text/x-python",
   "name": "python",
   "nbconvert_exporter": "python",
   "pygments_lexer": "ipython3",
   "version": "3.9.7"
  }
 },
 "nbformat": 4,
 "nbformat_minor": 5
}
